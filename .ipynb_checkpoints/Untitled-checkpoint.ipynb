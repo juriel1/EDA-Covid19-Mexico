{
 "cells": [
  {
   "cell_type": "code",
   "execution_count": null,
   "id": "c535f0bf",
   "metadata": {},
   "outputs": [],
   "source": [
    "import pandas as pd\n",
    "import numpy as np\n",
    "import matplotlib.pyplot as plt\n",
    "import seaborn as sns"
   ]
  },
  {
   "cell_type": "markdown",
   "id": "839ed8c6",
   "metadata": {},
   "source": [
    "## Objective: To find or not and visualize the relationship between the state origin and its symptoms\n",
    "##### Objetivo: Encontrar o no y visualizar la relación entre el origen estatal y su sintomatología"
   ]
  },
  {
   "cell_type": "markdown",
   "id": "79615e40",
   "metadata": {},
   "source": [
    "## The data was obtained directly from the \"Mexico Open Data\" page, so its cleaning and transformation has already been done, only the following changes were made to facilitate what was desired\n",
    "##### Los datos fueron obtenidos directamente de la página de \"Datos abiertos México\" por lo que su limpieza y transformación ya está hecha solo se hicieron los siguientes cambios para facilitar lo deseado"
   ]
  },
  {
   "cell_type": "markdown",
   "id": "3df247fe",
   "metadata": {},
   "source": [
    "## Remove attributes: 'NACIONALIDAD','HABLA_LENGUA_INDIG','INDIGENA','TOMA_MUESTRA_LAB','RESULTADO_LAB', ‘ORIGEN','MIGRANTE','PAIS_NACIONALIDAD','PAIS_ORIGEN','UCI','ID_REGISTRO','CLASIFICACION_FINAL' considered unnecessary for the objective\n",
    "##### Se eliminar los atributos: 'NACIONALIDAD','HABLA_LENGUA_INDIG','INDIGENA','TOMA_MUESTRA_LAB','RESULTADO_LAB',        ‘ORIGEN','MIGRANTE','PAIS_NACIONALIDAD','PAIS_ORIGEN','UCI','ID_REGISTRO','CLASIFICACION_FINAL' al considerarse innecesarios para el objetivo"
   ]
  },
  {
   "cell_type": "markdown",
   "id": "221e2de9",
   "metadata": {},
   "source": [
    "## The data was reduced to a third of the original size randomly, only considering the data with a multiple index of 3 in each year to facilitate its management with less computational expense.\n",
    "##### Se redujeron los datos a un tercio del tamaño original de maner aleatoria sólo considerando los datos con un índice múltiplo de 3 en cada año para facilitar su manejo con un menor gasto computacional "
   ]
  },
  {
   "cell_type": "code",
   "execution_count": null,
   "id": "0db04dfc",
   "metadata": {},
   "outputs": [],
   "source": [
    "n_necessary = ['NACIONALIDAD','HABLA_LENGUA_INDIG','INDIGENA','TOMA_MUESTRA_LAB','RESULTADO_LAB',\n",
    "               'ORIGEN','MIGRANTE','PAIS_NACIONALIDAD','PAIS_ORIGEN','UCI','ID_REGISTRO','CLASIFICACION_FINAL']\n",
    "def new_csv(i):\n",
    "    name = 'COVID19MEXICO202'+str(i)+'.csv'\n",
    "    newName = 'COVID19MEXICO202'+str(i)+'_PART'+'.csv'\n",
    "    dfo = pd.read_csv(name,low_memory=False)\n",
    "    df = dfo[dfo.index % 3 == 0]\n",
    "    df.drop(n_necessary,axis=1,inplace=True)\n",
    "    df['FECHA_DEF'] = df['FECHA_DEF'].replace('9999-99-99','9999-12-27')\n",
    "    df.to_csv(newName)\n",
    "    print('INFO OF '+name)\n",
    "    df.info()\n",
    "    print('DESCRIBE OF '+name)\n",
    "    print(df.describe())"
   ]
  },
  {
   "cell_type": "markdown",
   "id": "0e7c78ca",
   "metadata": {},
   "source": [
    "## On a machine with little computational power, the function must be applied to each file individually, never in a single run.\n",
    "##### En una máquina con poca potencia computacional se debe de hacer aplicar la función en cada archivo de manera individual nunca en una sola corrida"
   ]
  },
  {
   "cell_type": "code",
   "execution_count": null,
   "id": "a330489a",
   "metadata": {},
   "outputs": [],
   "source": [
    "#new_csv(0)\n",
    "#new_csv(1)\n",
    "#new_csv(2)\n",
    "new_csv(3)"
   ]
  },
  {
   "cell_type": "markdown",
   "id": "e1b93e34",
   "metadata": {},
   "source": [
    "## After analyzing the remaining data and objectifying the objectives that should be achieved so that they were more coherent together, it was decided to eliminate the following unnecessary attributes\n",
    "##### Después de analizar los datos restantes y objetivar los objetivos que se debían lograr de manera fueran más coherentes todos en conjunto se decidió eliminar los siguientes atributos innecesarios"
   ]
  },
  {
   "cell_type": "markdown",
   "id": "ea834560",
   "metadata": {},
   "source": [
    "## In addition, a binary attribute dependent on DATE_DEF is added which will only indicate whether the date is valid or not, which will indicate whether or not the patient is dysfunctional.\n",
    "##### Además se agrega un atributo binario dependiente de FECHA_DEF el cual solo indicará si la fecha es válida o no por lo que indicará la defunción o no del paciente"
   ]
  },
  {
   "cell_type": "code",
   "execution_count": null,
   "id": "995dfd73",
   "metadata": {},
   "outputs": [],
   "source": [
    "n_necessary = ['ENTIDAD_UM','ENTIDAD_NAC','MUNICIPIO_RES','FECHA_SINTOMAS','EMBARAZO',\n",
    "               'DIABETES','INMUSUPR','OBESIDAD','RENAL_CRONICA','TABAQUISMO','OTRO_CASO',]\n",
    "entidades = pd.read_csv('Entidades.csv')\n",
    "def change_fields(i_n):\n",
    "    name = 'COVID19MEXICO202'+str(i_n)+'_PART.csv'\n",
    "    #name = 'COVID19MEXICO_TEST.csv'\n",
    "    dft = pd.read_csv(name,low_memory=False)\n",
    "    #dft.drop(n_necessary,axis=1,inplace=True)\n",
    "    dft = dft.assign(DEF = 0)\n",
    "    dft['ENTIDAD_RES_N'] = dft['ENTIDAD_RES'].copy()\n",
    "    for i in range(0,len(dft)):\n",
    "        if dft['FECHA_DEF'][i] != '12/27/9999':\n",
    "            dft.at[i,'DEF'] = 1\n",
    "        if dft['ENTIDAD_RES_N'][i] == 36 or dft['ENTIDAD_RES_N'][i] == 97 or dft['ENTIDAD_RES_N'][i] == 98 or dft['ENTIDAD_RES_N'][i] == 99:\n",
    "            dft['ENTIDAD_RES_N'][i] = 'NO ESPECIFICADO'\n",
    "            dft['ENTIDAD_RES'][i] = '99'\n",
    "        else:\n",
    "            dft['ENTIDAD_RES_N'][i] = entidades['Entidad'][dft['ENTIDAD_RES'][i]-1]\n",
    "    dft.to_csv(name, encoding='latin-1')\n",
    "    print('INFO OF '+name)\n",
    "    dft.info()\n",
    "    print('DESCRIBE OF '+name)\n",
    "    print(dft.describe())"
   ]
  },
  {
   "cell_type": "code",
   "execution_count": null,
   "id": "a49bf3d4",
   "metadata": {},
   "outputs": [],
   "source": [
    "change_fields(0)\n",
    "change_fields(1)\n",
    "change_fields(2)\n",
    "change_fields(3)\n",
    "#change_fields(99)"
   ]
  }
 ],
 "metadata": {
  "kernelspec": {
   "display_name": "Python 3 (ipykernel)",
   "language": "python",
   "name": "python3"
  },
  "language_info": {
   "codemirror_mode": {
    "name": "ipython",
    "version": 3
   },
   "file_extension": ".py",
   "mimetype": "text/x-python",
   "name": "python",
   "nbconvert_exporter": "python",
   "pygments_lexer": "ipython3",
   "version": "3.11.5"
  }
 },
 "nbformat": 4,
 "nbformat_minor": 5
}
