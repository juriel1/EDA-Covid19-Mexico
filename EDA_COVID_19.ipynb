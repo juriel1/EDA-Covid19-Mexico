{
 "cells": [
  {
   "cell_type": "code",
   "execution_count": 1,
   "metadata": {},
   "outputs": [],
   "source": [
    "import pandas as pd"
   ]
  },
  {
   "cell_type": "markdown",
   "metadata": {},
   "source": [
    "## Objective: To find or not and visualize the relationship between the state origin and its symptoms\n",
    "##### Objetivo: Encontrar o no y visualizar la relación entre el origen estatal y su sintomatología"
   ]
  },
  {
   "cell_type": "markdown",
   "metadata": {},
   "source": [
    "## The data was obtained directly from the \"Mexico Open Data\" page, so its cleaning and transformation has already been done, only the following changes were made to facilitate what was desired\n",
    "##### Los datos fueron obtenidos directamente de la página de \"Datos abiertos México\" por lo que su limpieza y transformación ya está hecha solo se hicieron los siguientes cambios para facilitar lo deseado"
   ]
  },
  {
   "cell_type": "markdown",
   "metadata": {},
   "source": [
    "## Remove attributes: 'NACIONALIDAD','HABLA_LENGUA_INDIG','INDIGENA','TOMA_MUESTRA_LAB','RESULTADO_LAB', ‘ORIGEN','MIGRANTE','PAIS_NACIONALIDAD','PAIS_ORIGEN','UCI','ID_REGISTRO','CLASIFICACION_FINAL' considered unnecessary for the objective\n",
    "##### Se eliminar los atributos: 'NACIONALIDAD','HABLA_LENGUA_INDIG','INDIGENA','TOMA_MUESTRA_LAB','RESULTADO_LAB',        ‘ORIGEN','MIGRANTE','PAIS_NACIONALIDAD','PAIS_ORIGEN','UCI','ID_REGISTRO','CLASIFICACION_FINAL' al considerarse innecesarios para el objetivo"
   ]
  },
  {
   "cell_type": "markdown",
   "metadata": {},
   "source": [
    "## The data was reduced to a third of the original size randomly, only considering the data with a multiple index of 3 in each year to facilitate its management with less computational expense.\n",
    "##### Se redujeron los datos a un tercio del tamaño original de maner aleatoria sólo considerando los datos con un índice múltiplo de 3 en cada año para facilitar su manejo con un menor gasto computacional "
   ]
  },
  {
   "cell_type": "code",
   "execution_count": null,
   "metadata": {},
   "outputs": [],
   "source": [
    "def new_csv(i):\n",
    "    n_necessary = ['NACIONALIDAD','HABLA_LENGUA_INDIG','INDIGENA','TOMA_MUESTRA_LAB','RESULTADO_LAB',\n",
    "                    'ORIGEN','MIGRANTE','PAIS_NACIONALIDAD','PAIS_ORIGEN','UCI','ID_REGISTRO','CLASIFICACION_FINAL',\n",
    "                    'ENTIDAD_UM','ENTIDAD_NAC','MUNICIPIO_RES','FECHA_SINTOMAS','EMBARAZO',\n",
    "                    'DIABETES','INMUSUPR','OBESIDAD','RENAL_CRONICA','TABAQUISMO','OTRO_CASO']\n",
    "    name = 'COVID19MEXICO202'+str(i)+'.csv'\n",
    "    newName = 'COVID19MEXICO202'+str(i)+'_PART'+'.csv'\n",
    "    dfo = pd.read_csv(name,low_memory=False)\n",
    "    df = dfo[dfo.index % 3 == 0]\n",
    "    df.drop(n_necessary,axis=1,inplace=True)\n",
    "    df['FECHA_DEF'] = df['FECHA_DEF'].replace('9999-99-99','9999-12-27')\n",
    "    df.to_csv(newName)\n",
    "    del dfo\n",
    "    del df\n",
    "    '''print('INFO OF '+name)\n",
    "    df.info()\n",
    "    print('DESCRIBE OF '+name)\n",
    "    print(df.describe())'''"
   ]
  },
  {
   "cell_type": "markdown",
   "metadata": {},
   "source": [
    "## On a machine with little computational power, the function must be applied to each file individually, never in a single run.\n",
    "##### En una máquina con poca potencia computacional se debe de hacer aplicar la función en cada archivo de manera individual nunca en una sola corrida\n"
   ]
  },
  {
   "cell_type": "code",
   "execution_count": null,
   "metadata": {},
   "outputs": [],
   "source": [
    "for i in range(0,4):\n",
    "    new_csv(i);\n",
    "    %reset -s"
   ]
  },
  {
   "cell_type": "markdown",
   "metadata": {},
   "source": [
    "## After analyzing the remaining data and objectifying the objectives that should be achieved so that they were more coherent together, it was decided to eliminate the following unnecessary attributes\n",
    "##### Después de analizar los datos restantes y objetivar los objetivos que se debían lograr de manera fueran más coherentes todos en conjunto se decidió eliminar los siguientes atributos innecesarios"
   ]
  },
  {
   "cell_type": "markdown",
   "metadata": {},
   "source": [
    "## In addition, the column DEF and ENTIDAD_RES_N were added to indicate the death of the subject and the name of his state of origin.\n",
    "#### ademas se agrego la columna DEF y ENTIDAD_RES_N para indicar la defuncion del sujeto el nombre de su estado de origen"
   ]
  },
  {
   "cell_type": "code",
   "execution_count": 2,
   "metadata": {},
   "outputs": [],
   "source": [
    "def change_fields(i_n):\n",
    "    name = 'COVID19MEXICO202'+str(i_n)+'_PART.csv'\n",
    "    dft = pd.read_csv(name,low_memory=False)\n",
    "    dft = dft.assign(DEF = 0)\n",
    "    for i in range(0,len(dft)):\n",
    "        if dft['FECHA_DEF'][i] != '9999-12-27':\n",
    "            dft.at[i,'DEF'] = 1\n",
    "    dft.to_csv(name)\n",
    "    del dft\n",
    "    '''print('INFO OF '+name)\n",
    "    dft.info()\n",
    "    print('DESCRIBE OF '+name)\n",
    "    print(dft.describe())'''"
   ]
  },
  {
   "cell_type": "code",
   "execution_count": 3,
   "metadata": {},
   "outputs": [],
   "source": [
    "#change_fields(0);\n",
    "#change_fields(1);\n",
    "#change_fields(2);\n",
    "change_fields(3);"
   ]
  }
 ],
 "metadata": {
  "kernelspec": {
   "display_name": "base",
   "language": "python",
   "name": "python3"
  },
  "language_info": {
   "codemirror_mode": {
    "name": "ipython",
    "version": 3
   },
   "file_extension": ".py",
   "mimetype": "text/x-python",
   "name": "python",
   "nbconvert_exporter": "python",
   "pygments_lexer": "ipython3",
   "version": "3.11.5"
  }
 },
 "nbformat": 4,
 "nbformat_minor": 2
}
